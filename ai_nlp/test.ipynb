{
 "cells": [
  {
   "cell_type": "code",
   "execution_count": 1,
   "metadata": {},
   "outputs": [
    {
     "name": "stdout",
     "output_type": "stream",
     "text": [
      "Python\n",
      "JavaScript\n",
      "Java\n",
      "C++\n",
      "C#\n",
      "SQL\n",
      "HTML\n",
      "CSS\n",
      "PHP\n",
      "Ruby\n",
      "Go\n",
      "Kotlin\n",
      "Swift\n",
      "Objective-C\n",
      "Rust\n",
      "React\n",
      "Angular\n",
      "Vue.js\n",
      "Node.js\n",
      ".NET\n",
      "Spring\n",
      "Django\n",
      "Ruby on Rails\n",
      "Express.js\n",
      "MySQL\n",
      "PostgreSQL\n",
      "MongoDB\n",
      "Oracle\n",
      "SQL Server\n",
      "Agile\n",
      "Scrum\n",
      "Waterfall\n",
      "Git\n",
      "SVN\n",
      "AWS\n",
      "Azure\n",
      "Google Cloud Platform\n",
      "Windows\n",
      "macOS\n",
      "Linux\n",
      "Android\n",
      "iOS\n",
      "Front-end\n",
      "Back-end\n",
      "Full-stack\n",
      "Unit testing\n",
      "Integration testing\n",
      "End-to-end testing\n",
      "Identifying and resolving software errors\n",
      "Sorting\n",
      "searching\n",
      "graph algorithms\n",
      "SQL\n",
      "Pandas\n",
      "NumPy\n",
      "R\n",
      "Excel\n",
      "Tableau\n",
      "Power BI\n",
      "Tableau\n",
      "Power BI\n",
      "Matplotlib\n",
      "Seaborn\n",
      "Scikit-learn\n",
      "TensorFlow\n",
      "PyTorch\n",
      "R\n",
      "Hadoop\n",
      "Spark\n",
      "Regression\n",
      "Hypothesis testing\n",
      "Handling missing values\n",
      "outliers\n",
      "TCP/IP\n",
      "DNS\n",
      "DHCP\n",
      "VPN\n",
      "firewalls\n",
      "Penetration testing\n",
      "vulnerability assessment\n",
      "security protocols\n",
      "SIEM\n",
      "IDS/IPS\n",
      "Agile\n",
      "Scrum\n",
      "Waterfall\n",
      "Kanban\n",
      "Documentation\n",
      "manuals\n",
      "UI/UX design\n",
      "graphic design\n",
      "Copywriting\n",
      "SEO\n",
      "Troubleshooting\n",
      "problem-solving\n",
      "PC hardware\n",
      "server hardware\n",
      "networking equipment\n",
      "CAD\n",
      "CAM\n",
      "ERP\n",
      "CRM\n",
      "Word processing\n",
      "spreadsheets\n",
      "presentations\n",
      "Content creation\n",
      "social media management\n",
      "Accounting\n",
      "bookkeeping\n",
      "Accurate and fast typing\n",
      "Shared calendars\n",
      "document sharing\n",
      "Zoom\n",
      "email\n",
      "video conferencing\n",
      "Essential for many technical fields\n",
      "Understanding online security threats\n",
      "Machinery operation\n",
      "industrial equipment\n",
      "Creating technical drawings\n",
      "Analytical and critical thinking skills\n"
     ]
    }
   ],
   "source": [
    "skills=[]\n",
    "with open(\"skills.txt\", \"r\", encoding=\"utf-8\") as f:\n",
    "  text = f.readlines()\n",
    "  for i in text:\n",
    "    a, b = i.split(\":\")\n",
    "    skills.extend([i.strip() for i in b.strip().split(\",\")])\n",
    "for i in skills:\n",
    "  print(i)"
   ]
  },
  {
   "cell_type": "code",
   "execution_count": 9,
   "metadata": {},
   "outputs": [
    {
     "name": "stdout",
     "output_type": "stream",
     "text": [
      "<class 'str'>\n"
     ]
    }
   ],
   "source": [
    "from clean_data import clean_resume\n",
    "with open(\"CV.txt\", \"r\") as f:\n",
    "  text = clean_resume(f.read())\n",
    "\n",
    "print(type(text.lower()))"
   ]
  },
  {
   "cell_type": "code",
   "execution_count": 11,
   "metadata": {},
   "outputs": [
    {
     "data": {
      "text/plain": [
       "{'Skills': ['Python', 'HTML', 'R', 'Excel', 'R', 'SEO', 'CAD', 'ERP', 'email']}"
      ]
     },
     "execution_count": 11,
     "metadata": {},
     "output_type": "execute_result"
    }
   ],
   "source": [
    "def extract_skills(text):\n",
    "  skills = []\n",
    "  with open(\"skills.txt\", \"r\", encoding=\"utf-8\") as f:\n",
    "    t = f.readlines()\n",
    "    for line in t:\n",
    "      a, b = line.split(\":\")\n",
    "      skills.extend([i.strip() for i in b.strip().split(\",\")])\n",
    "  found_skills = [skill for skill in skills if skill.lower() in text.lower()]\n",
    "    \n",
    "  return {\"Skills\": found_skills}\n",
    "extract_skills(text)"
   ]
  }
 ],
 "metadata": {
  "kernelspec": {
   "display_name": "Python 3",
   "language": "python",
   "name": "python3"
  },
  "language_info": {
   "codemirror_mode": {
    "name": "ipython",
    "version": 3
   },
   "file_extension": ".py",
   "mimetype": "text/x-python",
   "name": "python",
   "nbconvert_exporter": "python",
   "pygments_lexer": "ipython3",
   "version": "3.11.9"
  }
 },
 "nbformat": 4,
 "nbformat_minor": 2
}
