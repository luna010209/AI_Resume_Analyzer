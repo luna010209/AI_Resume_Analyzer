{
 "cells": [
  {
   "cell_type": "code",
   "execution_count": 1,
   "metadata": {},
   "outputs": [
    {
     "name": "stdout",
     "output_type": "stream",
     "text": [
      "Python\n",
      "JavaScript\n",
      "Java\n",
      "C++\n",
      "C#\n",
      "SQL\n",
      "HTML\n",
      "CSS\n",
      "PHP\n",
      "Ruby\n",
      "Go\n",
      "Kotlin\n",
      "Swift\n",
      "Objective-C\n",
      "Rust\n",
      "React\n",
      "Angular\n",
      "Vue.js\n",
      "Node.js\n",
      ".NET\n",
      "Spring\n",
      "Django\n",
      "Ruby on Rails\n",
      "Express.js\n",
      "MySQL\n",
      "PostgreSQL\n",
      "MongoDB\n",
      "Oracle\n",
      "SQL Server\n",
      "Agile\n",
      "Scrum\n",
      "Waterfall\n",
      "Git\n",
      "SVN\n",
      "AWS\n",
      "Azure\n",
      "Google Cloud Platform\n",
      "Windows\n",
      "macOS\n",
      "Linux\n",
      "Android\n",
      "iOS\n",
      "Front-end\n",
      "Back-end\n",
      "Full-stack\n",
      "Unit testing\n",
      "Integration testing\n",
      "End-to-end testing\n",
      "Identifying and resolving software errors\n",
      "Sorting\n",
      "searching\n",
      "graph algorithms\n",
      "SQL\n",
      "Pandas\n",
      "NumPy\n",
      "R\n",
      "Excel\n",
      "Tableau\n",
      "Power BI\n",
      "Tableau\n",
      "Power BI\n",
      "Matplotlib\n",
      "Seaborn\n",
      "Scikit-learn\n",
      "TensorFlow\n",
      "PyTorch\n",
      "R\n",
      "Hadoop\n",
      "Spark\n",
      "Regression\n",
      "Hypothesis testing\n",
      "Handling missing values\n",
      "outliers\n",
      "TCP/IP\n",
      "DNS\n",
      "DHCP\n",
      "VPN\n",
      "firewalls\n",
      "Penetration testing\n",
      "vulnerability assessment\n",
      "security protocols\n",
      "SIEM\n",
      "IDS/IPS\n",
      "Agile\n",
      "Scrum\n",
      "Waterfall\n",
      "Kanban\n",
      "Documentation\n",
      "manuals\n",
      "UI/UX design\n",
      "graphic design\n",
      "Copywriting\n",
      "SEO\n",
      "Troubleshooting\n",
      "problem-solving\n",
      "PC hardware\n",
      "server hardware\n",
      "networking equipment\n",
      "CAD\n",
      "CAM\n",
      "ERP\n",
      "CRM\n",
      "Word processing\n",
      "spreadsheets\n",
      "presentations\n",
      "Content creation\n",
      "social media management\n",
      "Accounting\n",
      "bookkeeping\n",
      "Accurate and fast typing\n",
      "Shared calendars\n",
      "document sharing\n",
      "Zoom\n",
      "email\n",
      "video conferencing\n",
      "Essential for many technical fields\n",
      "Understanding online security threats\n",
      "Machinery operation\n",
      "industrial equipment\n",
      "Creating technical drawings\n",
      "Analytical and critical thinking skills\n"
     ]
    }
   ],
   "source": [
    "skills=[]\n",
    "with open(\"skills.txt\", \"r\", encoding=\"utf-8\") as f:\n",
    "  text = f.readlines()\n",
    "  for i in text:\n",
    "    a, b = i.split(\":\")\n",
    "    skills.extend([i.strip() for i in b.strip().split(\",\")])\n",
    "for i in skills:\n",
    "  print(i)"
   ]
  },
  {
   "cell_type": "code",
   "execution_count": 63,
   "metadata": {},
   "outputs": [
    {
     "data": {
      "text/plain": [
       "'Activities/Experience https://github.com/luna010209'"
      ]
     },
     "execution_count": 63,
     "metadata": {},
     "output_type": "execute_result"
    }
   ],
   "source": [
    "import re\n",
    "def clean_resume(text):\n",
    "    text = re.sub(r\"[\\?|\\|�]\", \" \", text)\n",
    "    text = re.sub(r\"(\\d) (\\d{3}) (\\.\\d{2})\", r\"\\1\\2\\3\", text)\n",
    "    text = re.sub(r'\\n+', ' ', text)\n",
    "    text = re.sub(r'\\s+', ' ', text)\n",
    "    return text.strip()\n",
    "clean_resume(\"Activities/Experience https://github.com/luna010209\")"
   ]
  },
  {
   "cell_type": "code",
   "execution_count": 64,
   "metadata": {},
   "outputs": [
    {
     "name": "stdout",
     "output_type": "stream",
     "text": [
      "Profile Activities/Experience luna010209 Sogang University Master: Global Korean Studies Master: Data science Liverpool John Moores University 2023.08 - 2025.06 2024.04 - 2025.04 Java spring boot Education Technical skills English Korean Language Certificates LUNA DO Web deve loper 2 0 2 4 . 0 6 – 2 0 2 4 . 1 1 Backend Development Course Sponsored by the Korean Government, KOSME, and LikeLion Focus on training in Java, Spring Boot, and databases. Build scalable web applications, including user authentication, API development, and real-world project implementation. PPL NETWORKS Part-time: Marketing Distribute promotional materials directly Collect and organize sales data after the distribution of promotional materials, and prepare reports. MLC Academy Part-time: English teaching assistant Prepare and conduct English lessons for elementary and middle school students. Provide individual guidance and learning consultations tailored to students' learning abilities. My full name is Do Hoang Huong Lien. I am from Vietnam. Currently, I am a graduate student pursuing Global Korean Studies at Sogang University and Data Science at Liverpool John Moores University. I am passionate about full- stack web development and working in South Korea. 2024 Kiip5 (Korea Immigration & Integration Program) Notion_luna Bachelor: Japanese Studies FPT University 2018.09 - 2022.02 Python React/Vue/JS Japanese 2 0 2 3 . 1 0 – 2 0 2 4 . 0 1 2 0 2 3 . 0 3 – 2 0 2 3 . 0 9 2023 Topik5 2021 JLPT N2 HTML/Bootstrap 2 0 2 5 . 0 1 – N o w Chestnut (IT solution business consulting) Full-stack Web Developer Design web with Figma Develop frontend with react js for web and flutter for apps Develop backend with spring boot https://github.com/luna010209 https://local-entree-c8a.notion.site/1565418244bf80cb99f2d9a9a0b5df09 pvs=4 Luna Do Hoang Huong Lien Project Technical skills Detail Seoul Travel Web Application Backend: Java - Spring Boot - JPA External APIs: Tour API, Naver Search API, Odsay API, NCloud Directions 5, Kakao Login API, Naver Login API, Toss API Database - SQLite API test - Postman Frontend: HTML - Bootstrap JavaScript: Fetch API Kakao Map API User Authentication: Provides user registration functionality and manages authentication using JWT. Supports login via Kakao and Naver accounts. 1. Tourist Information: Utilizes the Tour API to provide details on popular landmarks and tourist attractions in Seoul, including descriptions, images, and visitor details. 2. Address and Route Information:3. Uses the Naver Search API for address lookup, enhancing navigation and travel planning. a. Implements the Odsay API to provide optimized public transportation routes, estimated travel times, and fare details. b. Uses NCloud Directions 5 for calculating and displaying driving routes. c. Displays maps using the Kakao Map API.d. Travel Course Booking and Management: Enables users to book and manage personalized travel courses, process payments via Toss API, and write reviews and ratings for booked courses. 4. User Blog and Post Management: Allows users to create and manage blog posts, comment on, and like other users' posts. 5. Real-Time Chat Web Application Backend: Java - Spring Boot - JPA - WebSocket Database - MySQL External APIs: Kakao Login API - Naver Login API API test - Postman Frontend: ReactJS - Bootstrap - Axios - Canva User Authentication: Enables seamless login via Naver/Kakao accounts and ensures secure session management using JWT. 1. Real-Time Messaging: Implements WebSocket for real-time message exchange, supporting message editing and deletion. 2. Database Management: Stores user information and chat history using MySQL, with JPA for efficient data management and interaction. 3. Frontend Development: Builds a dynamic UI with ReactJS and facilitates smooth backend communication through Axios API calls. 4. Calling_Web rtc_Project Backend: Java - Spring Boot - WebSocket - WebRTC Database- MongoDB External API: Kakao Login API - Naver Login API API test - Postman Frontend: VueJS - Bootstrap - Axios - Canva User Authentication: Ensures secure authentication using JWT and supports seamless login via Naver/Kakao accounts. 1. WebRTC Calls: Implements WebSocket for real-time connection and WebRTC for high-quality audio/video communication. 2. Database Management: Stores user information and chat history using MongoDB, leveraging a flexible schema design for real-time data management. 3. Frontend Development: Develops a dynamic UI with Vue.js and enables smooth API communication using Axios. 4. Projects (Please refer to my github luna010209) https://github.com/lido010209/Seoul_travel_project https://github.com/lido010209/Seoul_travel_project https://github.com/lido010209/Chatting_Project https://github.com/lido010209/Chatting_Project https://github.com/lido010209/Chatting_Project https://github.com/lido010209/Webrtc_project https://github.com/lido010209/Webrtc_project https://github.com/luna010209\n"
     ]
    }
   ],
   "source": [
    "# from clean_data import clean_resume\n",
    "text = \"\"\n",
    "with open(\"CV.txt\", \"r\") as f:\n",
    "  for i in f.readlines():\n",
    "    text += ' ' + clean_resume(i) \n",
    "print(clean_resume(text))"
   ]
  },
  {
   "cell_type": "code",
   "execution_count": 59,
   "metadata": {},
   "outputs": [
    {
     "data": {
      "text/plain": [
       "{'Skills': ['Figma',\n",
       "  'Spring',\n",
       "  'Full-stack',\n",
       "  'Python',\n",
       "  'R',\n",
       "  'JavaScript',\n",
       "  'Java',\n",
       "  'Git',\n",
       "  'SQL',\n",
       "  'HTML',\n",
       "  'MySQL',\n",
       "  'Flutter',\n",
       "  'MongoDB',\n",
       "  'iOS',\n",
       "  'Vue.js',\n",
       "  'Go',\n",
       "  'React']}"
      ]
     },
     "execution_count": 59,
     "metadata": {},
     "output_type": "execute_result"
    }
   ],
   "source": [
    "def extract_skills(text):\n",
    "  skills = []\n",
    "  with open(\"skills.txt\", \"r\", encoding=\"utf-8\") as f:\n",
    "    t = f.readlines()\n",
    "    for line in t:\n",
    "      a, b = line.split(\":\")\n",
    "      skills.extend([i.strip() for i in b.strip().split(\",\")])\n",
    "  found_skills = [skill for skill in set(skills) if skill.lower() in text.lower()]\n",
    "    \n",
    "  return {\"Skills\": found_skills}\n",
    "extract_skills(text)"
   ]
  },
  {
   "cell_type": "code",
   "execution_count": 71,
   "metadata": {},
   "outputs": [
    {
     "name": "stderr",
     "output_type": "stream",
     "text": [
      "[nltk_data] Downloading package stopwords to\n",
      "[nltk_data]     C:\\Users\\flowe\\AppData\\Roaming\\nltk_data...\n",
      "[nltk_data]   Package stopwords is already up-to-date!\n"
     ]
    }
   ],
   "source": [
    "import spacy\n",
    "import re\n",
    "import nltk\n",
    "\n",
    "nltk.download('stopwords')\n",
    "\n",
    "# Load spaCy model\n",
    "nlp= spacy.load(\"en_core_web_sm\")\n",
    "\n",
    "def extract_name(text):\n",
    "    doc = nlp(text)\n",
    "    # Extract Name\n",
    "    names = [ent.text for ent in doc[:500].ents if ent.label_ == \"PERSON\"]\n",
    "    name = \" \".join(names) if names else \"Not Found\"\n",
    "\n",
    "  # Step 2: Check for \"My name is\" or \"Full name is\"\n",
    "    name_match = re.search(r\"(?:My name is|Full name is|I am)\\s+([A-Z][a-z]+(?:\\s+[A-Z][a-z]+)*)\", text)\n",
    "    if name_match:\n",
    "        return name_match.group(1)\n",
    "    \n",
    "    # Step 3: Find capitalized words at the start of the CV\n",
    "    words = text.split()\n",
    "    possible_names = [word for word in words[:10] if word.istitle()]  # First 10 words only\n",
    "    if possible_names:\n",
    "        return \" \".join(possible_names[:2])\n",
    "\n",
    "def extract_basic_info(text):\n",
    "    # doc = nlp(text)\n",
    "    name =extract_name(text)\n",
    "    # Extract Email\n",
    "    email_match = re.search(r\"[a-zA-Z0-9._%+-]+@[a-zA-Z0-9.-]+\\.[a-zA-Z]{2,}\", text)\n",
    "    email = email_match.group(0) if email_match else \"Not Found\"\n",
    "\n",
    "      # Extract Phone Number (Handles multiple formats)\n",
    "    phone_match = re.search(r\"\\+?\\d{1,3}?[-.\\s]?\\(?\\d{2,4}\\)?[-.\\s]?\\d{3,4}[-.\\s]?\\d{3,4}\", text)\n",
    "    phone = phone_match.group(0) if phone_match else \"Not Found\"\n",
    "  \n",
    "    return {\"Name\": name, \"Email\": email, \"Phone\": phone}\n"
   ]
  },
  {
   "cell_type": "code",
   "execution_count": 65,
   "metadata": {},
   "outputs": [
    {
     "data": {
      "text/plain": [
       "{'Name': 'Hoang Huong Lien',\n",
       " 'Email': 'luna010209@gmail.com',\n",
       " 'Phone': '010-1234-5678'}"
      ]
     },
     "execution_count": 65,
     "metadata": {},
     "output_type": "execute_result"
    }
   ],
   "source": [
    "cv_text = \"\"\"\n",
    "My full name is Do Hoang Huong Lien. \n",
    "I am from Vietnam. \n",
    "Contact: luna010209@gmail.com \n",
    "Phone: 010-1234-5678\n",
    "\"\"\"\n",
    "extract_basic_info(cv_text)"
   ]
  },
  {
   "cell_type": "code",
   "execution_count": 72,
   "metadata": {},
   "outputs": [
    {
     "data": {
      "text/plain": [
       "{'Name': 'Profile Activities/Experience',\n",
       " 'Email': 'Not Found',\n",
       " 'Phone': '1565418244'}"
      ]
     },
     "execution_count": 72,
     "metadata": {},
     "output_type": "execute_result"
    }
   ],
   "source": [
    "extract_basic_info(text)"
   ]
  }
 ],
 "metadata": {
  "kernelspec": {
   "display_name": "Python 3",
   "language": "python",
   "name": "python3"
  },
  "language_info": {
   "codemirror_mode": {
    "name": "ipython",
    "version": 3
   },
   "file_extension": ".py",
   "mimetype": "text/x-python",
   "name": "python",
   "nbconvert_exporter": "python",
   "pygments_lexer": "ipython3",
   "version": "3.11.9"
  }
 },
 "nbformat": 4,
 "nbformat_minor": 2
}
